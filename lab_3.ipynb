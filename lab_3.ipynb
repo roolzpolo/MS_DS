{
 "cells": [
  {
   "cell_type": "markdown",
   "id": "1e322d1a-7812-43cb-890a-906445f36a5a",
   "metadata": {},
   "source": [
    "# LABORATORIO 3\n",
    "## POLO FIGUEROA 24000569"
   ]
  },
  {
   "cell_type": "markdown",
   "id": "c9b47398-cd5e-4851-bf5b-82f14dd0e67b",
   "metadata": {},
   "source": [
    "IMPORTACION DE LIBRERIAS"
   ]
  },
  {
   "cell_type": "code",
   "execution_count": 47,
   "id": "f57a8a3c-cbff-406b-8d0f-9798628f86b5",
   "metadata": {
    "tags": []
   },
   "outputs": [],
   "source": [
    "import numpy as np\n",
    "import pandas as pd\n",
    "import matplotlib.pyplot as plt\n",
    "import sys\n",
    "from math import radians, cos, sin, asin, sqrt\n",
    "import warnings\n",
    "warnings.filterwarnings('ignore')"
   ]
  },
  {
   "cell_type": "markdown",
   "id": "b79bd449-d801-4096-838e-618a71475046",
   "metadata": {},
   "source": [
    "1. ¿Cuál es el tamaño en bytes de un array de 1000 elementos de tipo booleano?\n",
    "\n",
    "total_size = boolean_size * n\n"
   ]
  },
  {
   "cell_type": "code",
   "execution_count": 7,
   "id": "d5e52fc4-3b53-442a-81cf-bf171c7dfb89",
   "metadata": {
    "tags": []
   },
   "outputs": [
    {
     "data": {
      "text/plain": [
       "1000"
      ]
     },
     "execution_count": 7,
     "metadata": {},
     "output_type": "execute_result"
    }
   ],
   "source": [
    "# Usando NumPy y el atributo nbytes\n",
    "array_bool_np = np.array([True] * 1000, dtype=bool)\n",
    "size_bytes_np = array_bool_np.nbytes\n",
    "\n",
    "size_bytes_np"
   ]
  },
  {
   "cell_type": "markdown",
   "id": "0af383ea-3e31-42ea-acfb-a7b0488477fa",
   "metadata": {},
   "source": [
    "2. Cree un array cuyos elementos sean los enteros pares en [1,100] y en orden decreciente. Muestre los 10 últimos por pantalla."
   ]
  },
  {
   "cell_type": "code",
   "execution_count": 8,
   "id": "79080cb0-1c63-41bc-9a67-017e632eca80",
   "metadata": {
    "tags": []
   },
   "outputs": [
    {
     "data": {
      "text/plain": [
       "array([20, 18, 16, 14, 12, 10,  8,  6,  4,  2])"
      ]
     },
     "execution_count": 8,
     "metadata": {},
     "output_type": "execute_result"
    }
   ],
   "source": [
    "# generacion de data\n",
    "array_even = np.arange(2, 101, 2)[::-1] \n",
    "# selleccion de los ultimos diez\n",
    "last_10 = array_even[-10:] \n",
    "\n",
    "last_10"
   ]
  },
  {
   "cell_type": "markdown",
   "id": "fe3765d4-c034-4a65-abc0-7acae03bcbc1",
   "metadata": {},
   "source": [
    "3. Dado el array_A [2456, 0374, 8852, 1561] Seleccione con una instrucción el sub_array_B[0374]. Después, seleccione el sub_array_C de elementos [25, 85]"
   ]
  },
  {
   "cell_type": "code",
   "execution_count": 16,
   "id": "d100eafe-855a-4c09-8be7-6fd6f947f017",
   "metadata": {
    "tags": []
   },
   "outputs": [
    {
     "data": {
      "text/plain": [
       "(374, '245 85')"
      ]
     },
     "execution_count": 16,
     "metadata": {},
     "output_type": "execute_result"
    }
   ],
   "source": [
    "array_A = np.array([2456, 374, 8852, 1561])\n",
    "\n",
    "# sub_array_B, unicamente se selecciona la segunda posicion (recordando que [0] es la primer posicion)\n",
    "sub_array_B = array_A[1]\n",
    "\n",
    "\n",
    "# sub_array_C\n",
    "array_str = ''.join(array_A.astype(str)) #conversion a 'string' para contar los espacios\n",
    "sub_array_C = array_str[0:3] + ' ' + array_str[8:10] \n",
    "\n",
    "sub_array_B, sub_array_C"
   ]
  },
  {
   "cell_type": "markdown",
   "id": "5efa70b9-0f4a-4168-bb6f-f0b8624637cb",
   "metadata": {},
   "source": [
    "4. Dados los arrays a = [1, 4, 2, 7] y b = [1, 3, 2, 9], obtenga la media aritmética de la diferencia (a-b)."
   ]
  },
  {
   "cell_type": "code",
   "execution_count": null,
   "id": "4e885e3a-932f-4a6c-b537-a49718cd8d7a",
   "metadata": {},
   "outputs": [],
   "source": [
    "a = np.array([1, 4, 2, 7])\n",
    "b = np.array([1, 3, 2, 9])\n",
    "diferencia = a - b\n",
    "media_aritmetica = np.mean(diferencia)\n",
    "media_aritmetica"
   ]
  },
  {
   "cell_type": "markdown",
   "id": "9aa06bad-c84f-40f1-8b2f-e8e60934d256",
   "metadata": {},
   "source": [
    "5. Dados los valores de las coordenadas (x, y) en las columnas [1.33, 4.5],[30.0 10.7] del array\n",
    "Agregue a este array las coordenadas (37.1, -3.6).\n",
    "Muestre en pantalla las dimensiones del nuevo array."
   ]
  },
  {
   "cell_type": "code",
   "execution_count": 18,
   "id": "381c0214-56da-46ee-aedd-469dac7ed7ac",
   "metadata": {
    "tags": []
   },
   "outputs": [
    {
     "data": {
      "text/plain": [
       "(3, 2)"
      ]
     },
     "execution_count": 18,
     "metadata": {},
     "output_type": "execute_result"
    }
   ],
   "source": [
    "A = np.array([[1.33, 4.5], [30.0, 10.7]])\n",
    "B = np.append(A, [[37.1, -3.6]], axis=0)\n",
    "\n",
    "B.shape"
   ]
  },
  {
   "cell_type": "markdown",
   "id": "ec832f91-ae57-4bcc-851b-74bc90ef439a",
   "metadata": {},
   "source": [
    "6. Copie el array del ejercicio anterior. Traspóngalo (. Agregue ahora dos nuevos pares de coordenadas: (10.8, 3.0) y (35.8, 12.0)."
   ]
  },
  {
   "cell_type": "code",
   "execution_count": 19,
   "id": "4f8ef644-23e6-4a4a-86a4-d56afab44163",
   "metadata": {
    "tags": []
   },
   "outputs": [
    {
     "data": {
      "text/plain": [
       "(array([[ 1.33,  4.5 ],\n",
       "        [30.  , 10.7 ],\n",
       "        [37.1 , -3.6 ],\n",
       "        [10.8 ,  3.  ],\n",
       "        [35.8 , 12.  ]]),\n",
       " (5, 2))"
      ]
     },
     "execution_count": 19,
     "metadata": {},
     "output_type": "execute_result"
    }
   ],
   "source": [
    "B_traspose = B.T\n",
    "\n",
    "\n",
    "B_re_traspose = B_traspose.T\n",
    "nuevas_coordenadas = np.array([[10.8, 3.0], [35.8, 12.0]])\n",
    "B_final = np.append(B_re_traspose, nuevas_coordenadas, axis=0)\n",
    "\n",
    "# Mostrar el array final y sus dimensiones\n",
    "B_final, B_final.shape"
   ]
  },
  {
   "cell_type": "code",
   "execution_count": 24,
   "id": "b293829d-5c8f-4370-a738-3b0fc6308a6d",
   "metadata": {
    "tags": []
   },
   "outputs": [
    {
     "data": {
      "text/html": [
       "<div>\n",
       "<style scoped>\n",
       "    .dataframe tbody tr th:only-of-type {\n",
       "        vertical-align: middle;\n",
       "    }\n",
       "\n",
       "    .dataframe tbody tr th {\n",
       "        vertical-align: top;\n",
       "    }\n",
       "\n",
       "    .dataframe thead th {\n",
       "        text-align: right;\n",
       "    }\n",
       "</style>\n",
       "<table border=\"1\" class=\"dataframe\">\n",
       "  <thead>\n",
       "    <tr style=\"text-align: right;\">\n",
       "      <th></th>\n",
       "      <th>FID</th>\n",
       "      <th>OBJECTID</th>\n",
       "      <th>Texto</th>\n",
       "      <th>Poblacion</th>\n",
       "      <th>CodMun</th>\n",
       "      <th>Municipio</th>\n",
       "      <th>CodProvin</th>\n",
       "      <th>Provincia</th>\n",
       "      <th>X</th>\n",
       "      <th>Y</th>\n",
       "    </tr>\n",
       "  </thead>\n",
       "  <tbody>\n",
       "    <tr>\n",
       "      <th>0</th>\n",
       "      <td>0</td>\n",
       "      <td>1</td>\n",
       "      <td>Agüimes</td>\n",
       "      <td>29431.0</td>\n",
       "      <td>35002</td>\n",
       "      <td>Agüimes</td>\n",
       "      <td>35</td>\n",
       "      <td>Las Palmas</td>\n",
       "      <td>-15.446012</td>\n",
       "      <td>27.900542</td>\n",
       "    </tr>\n",
       "    <tr>\n",
       "      <th>1</th>\n",
       "      <td>1</td>\n",
       "      <td>2</td>\n",
       "      <td>Antigua</td>\n",
       "      <td>10458.0</td>\n",
       "      <td>35003</td>\n",
       "      <td>Antigua</td>\n",
       "      <td>35</td>\n",
       "      <td>Las Palmas</td>\n",
       "      <td>-14.013301</td>\n",
       "      <td>28.418966</td>\n",
       "    </tr>\n",
       "    <tr>\n",
       "      <th>2</th>\n",
       "      <td>2</td>\n",
       "      <td>3</td>\n",
       "      <td>Arrecife</td>\n",
       "      <td>58156.0</td>\n",
       "      <td>35004</td>\n",
       "      <td>Arrecife</td>\n",
       "      <td>35</td>\n",
       "      <td>Las Palmas</td>\n",
       "      <td>-13.551451</td>\n",
       "      <td>28.960649</td>\n",
       "    </tr>\n",
       "    <tr>\n",
       "      <th>3</th>\n",
       "      <td>3</td>\n",
       "      <td>4</td>\n",
       "      <td>Arucas</td>\n",
       "      <td>36745.0</td>\n",
       "      <td>35006</td>\n",
       "      <td>Arucas</td>\n",
       "      <td>35</td>\n",
       "      <td>Las Palmas</td>\n",
       "      <td>-15.521512</td>\n",
       "      <td>28.117496</td>\n",
       "    </tr>\n",
       "    <tr>\n",
       "      <th>4</th>\n",
       "      <td>4</td>\n",
       "      <td>5</td>\n",
       "      <td>Gáldar</td>\n",
       "      <td>24473.0</td>\n",
       "      <td>35009</td>\n",
       "      <td>Gáldar</td>\n",
       "      <td>35</td>\n",
       "      <td>Las Palmas</td>\n",
       "      <td>-15.654111</td>\n",
       "      <td>28.143873</td>\n",
       "    </tr>\n",
       "  </tbody>\n",
       "</table>\n",
       "</div>"
      ],
      "text/plain": [
       "   FID  OBJECTID     Texto  Poblacion  CodMun Municipio  CodProvin  \\\n",
       "0    0         1   Agüimes    29431.0   35002   Agüimes         35   \n",
       "1    1         2   Antigua    10458.0   35003   Antigua         35   \n",
       "2    2         3  Arrecife    58156.0   35004  Arrecife         35   \n",
       "3    3         4    Arucas    36745.0   35006    Arucas         35   \n",
       "4    4         5    Gáldar    24473.0   35009    Gáldar         35   \n",
       "\n",
       "    Provincia          X          Y  \n",
       "0  Las Palmas -15.446012  27.900542  \n",
       "1  Las Palmas -14.013301  28.418966  \n",
       "2  Las Palmas -13.551451  28.960649  \n",
       "3  Las Palmas -15.521512  28.117496  \n",
       "4  Las Palmas -15.654111  28.143873  "
      ]
     },
     "execution_count": 24,
     "metadata": {},
     "output_type": "execute_result"
    }
   ],
   "source": [
    "\n",
    "df = pd.read_csv('NucleosPoblacion.csv')\n",
    "df.head()"
   ]
  },
  {
   "cell_type": "code",
   "execution_count": 26,
   "id": "5f930fd0-8327-4191-9822-0d4208878813",
   "metadata": {
    "tags": []
   },
   "outputs": [
    {
     "data": {
      "text/plain": [
       "62"
      ]
     },
     "execution_count": 26,
     "metadata": {},
     "output_type": "execute_result"
    }
   ],
   "source": [
    "filtro_1 = df[df['Poblacion'] > 100000]\n",
    "\n",
    "n_municipios_100k = municipios_mas_100k.shape[0]\n",
    "n_municipios_100k"
   ]
  },
  {
   "cell_type": "markdown",
   "id": "2259de53-6e50-4b9a-a3ca-564e374414db",
   "metadata": {
    "tags": []
   },
   "source": [
    "top_10_ciudades = df.nlargest(10, 'Poblacion')\n",
    "top_10_ciudades_desc = top_10_ciudades.sort_values(by='Poblacion', ascending=True)\n",
    "\n",
    "# Crear la gráfica de barras ajustada\n",
    "plt.figure(figsize=(10, 8))\n",
    "plt.barh(top_10_ciudades_desc['Texto'], top_10_ciudades_desc['Poblacion'], color='salmon')\n",
    "plt.xlabel('Población')\n",
    "plt.ylabel('Ciudad')\n",
    "plt.title('Top 10 ciudades con mayor población (mayor a menor)')\n",
    "plt.tight_layout()\n",
    "plt.show()"
   ]
  },
  {
   "cell_type": "code",
   "execution_count": 32,
   "id": "9873dbc7-82f4-4816-b4d3-b1e33a0a5dee",
   "metadata": {},
   "outputs": [
    {
     "data": {
      "text/plain": [
       "('Barcelona', 835)"
      ]
     },
     "execution_count": 32,
     "metadata": {},
     "output_type": "execute_result"
    }
   ],
   "source": [
    "# identificacion de la segunda ciudad mas poblada y posición que ocupa Granada\n",
    "df_ordenado = df.sort_values(by='Poblacion')\n",
    "segunda_mas_poblada = df_ordenado['Texto'].iloc[-2]\n",
    "posicion_granada = df_ordenado[df_ordenado['Texto'].str.contains('Granada', case=False)].index[0]\n",
    "ranking_granada = df_ordenado.index.get_loc(posicion_granada) + 1  # Ajustar el índice a un ranking humano\n",
    "\n",
    "segunda_mas_poblada, ranking_granada"
   ]
  },
  {
   "cell_type": "markdown",
   "id": "af8eb7c0-4c1f-4711-a8fc-785d5b38b0d6",
   "metadata": {},
   "source": [
    "Visualmente, se puede identicar que, Barcelona es la segunda ciudad mas poblada. El ranking de Granada es 835."
   ]
  },
  {
   "cell_type": "markdown",
   "id": "50dc50fe-88ee-4411-947f-dd47b547fed1",
   "metadata": {},
   "source": [
    "3. ¿Cuántos municipios de Extremadura tienen más de 5000 habitantes?."
   ]
  },
  {
   "cell_type": "code",
   "execution_count": 33,
   "id": "f3e3bda7-1459-4c3f-b1f3-436be4645436",
   "metadata": {
    "tags": []
   },
   "outputs": [
    {
     "data": {
      "text/plain": [
       "14"
      ]
     },
     "execution_count": 33,
     "metadata": {},
     "output_type": "execute_result"
    }
   ],
   "source": [
    "# Municipios de Extremadura (provincias de Cáceres y Badajoz) con más de 5000 habitantes\n",
    "municipios_extremadura_5000 = df[((df['Provincia'] == 'Cáceres') | (df['Provincia'] == 'Badajoz')) & (df['Poblacion'] > 5000)]\n",
    "\n",
    "# Contar el número de municipios que cumplen el criterio\n",
    "numero_municipios_extremadura_5000 = municipios_extremadura_5000.shape[0]\n",
    "numero_municipios_extremadura_5000"
   ]
  },
  {
   "cell_type": "markdown",
   "id": "4f75ac94-22d9-4448-b94b-bd320de17001",
   "metadata": {},
   "source": [
    "4. ¿Cuál es el municipio situado más al Norte? (Usar el valor de la coordenada \"Y\" que representa la latitud en grados). Proporcione también la provincia a la que pertenece y su población."
   ]
  },
  {
   "cell_type": "code",
   "execution_count": 35,
   "id": "2a788bed-8a42-4b64-afc7-e82356a6d59a",
   "metadata": {
    "tags": []
   },
   "outputs": [
    {
     "data": {
      "text/plain": [
       "('Viveiro', 'Lugo', 16211.0)"
      ]
     },
     "execution_count": 35,
     "metadata": {},
     "output_type": "execute_result"
    }
   ],
   "source": [
    "# Encontrar el municipio situado más al norte usando el valor máximo de la coordenada \"Y\" (latitud)\n",
    "norte = df.loc[df['Y'].idxmax()]\n",
    "\n",
    "# Extraer la información relevante del municipio más al norte\n",
    "nombre_municipio_norte = norte['Municipio']\n",
    "provincia_municipio_norte = norte['Provincia']\n",
    "poblacion_municipio_norte = norte['Poblacion']\n",
    "\n",
    "nombre_municipio_norte, provincia_municipio_norte, poblacion_municipio_norte\n"
   ]
  },
  {
   "cell_type": "markdown",
   "id": "bc2b05c6-5c70-4b2b-80c0-735d422100c4",
   "metadata": {},
   "source": [
    "5. Obtenga la media, mediana, desviación estándar, valor máximo y valor mínimo de la población de los municipios de la provincia de Granada."
   ]
  },
  {
   "cell_type": "code",
   "execution_count": 36,
   "id": "5423f9ba-2e7b-46ce-a223-745f6051e700",
   "metadata": {
    "tags": []
   },
   "outputs": [
    {
     "data": {
      "text/plain": [
       "mean       30217.850000\n",
       "median     17526.000000\n",
       "std        50355.491715\n",
       "max       239154.000000\n",
       "min        10386.000000\n",
       "Name: Poblacion, dtype: float64"
      ]
     },
     "execution_count": 36,
     "metadata": {},
     "output_type": "execute_result"
    }
   ],
   "source": [
    "# Filtrar los municipios de la provincia de Granada\n",
    "municipios_granada = df[df['Provincia'] == 'Granada']\n",
    "\n",
    "# Calcular estadísticas descriptivas de la población de los municipios de Granada\n",
    "estadisticas_granada = municipios_granada['Poblacion'].agg(['mean', 'median', 'std', 'max', 'min'])\n",
    "estadisticas_granada"
   ]
  },
  {
   "cell_type": "markdown",
   "id": "19a6dba0-cfaa-4c24-8e3a-3f02d6ed010f",
   "metadata": {},
   "source": [
    "6. Realice un histograma con la población de los Municipios para cada una de las provincias."
   ]
  },
  {
   "cell_type": "code",
   "execution_count": 39,
   "id": "ff6d3fe3-8ded-472d-b1e2-baded0d8344e",
   "metadata": {
    "tags": []
   },
   "outputs": [
    {
     "data": {
      "text/plain": [
       "array(['Las Palmas', 'Santa Cruz de Tenerife', 'Badajoz', 'Cáceres',\n",
       "       'Cádiz', 'A Coruña', 'Huelva', 'León', 'Lugo', 'Ourense',\n",
       "       'Asturias', 'Pontevedra', 'Salamanca', 'Sevilla', 'Albacete',\n",
       "       'Alacant/Alicante', 'Álava', 'Almería', 'Ávila', 'Burgos',\n",
       "       'Castelló/Castellón', 'Ciudad Real', 'Córdoba', 'Cuenca',\n",
       "       'Granada', 'Guadalajara', 'Guipúzcoa', 'Huesca', 'Jaén',\n",
       "       'La Rioja', 'Madrid', 'Málaga', 'Murcia', 'Navarra', 'Palencia',\n",
       "       'Cantabria', 'Segovia', 'Soria', 'Teruel', 'Toledo',\n",
       "       'València/Valencia', 'Valladolid', 'Vizcaya', 'Zamora', 'Zaragoza',\n",
       "       'Ceuta', 'Illes Balears', 'Barcelona', 'Girona', 'Lleida',\n",
       "       'Tarragona', 'Melilla'], dtype=object)"
      ]
     },
     "execution_count": 39,
     "metadata": {},
     "output_type": "execute_result"
    }
   ],
   "source": [
    "listado_provincias = df['Provincia'].unique()\n",
    "listado_provincias\n"
   ]
  },
  {
   "cell_type": "code",
   "execution_count": 41,
   "id": "7ffcfaac-0242-4fae-9fac-5b3fc307f768",
   "metadata": {
    "tags": []
   },
   "outputs": [
    {
     "name": "stdin",
     "output_type": "stream",
     "text": [
      "Ingresa el nombre de la provincia:  Las Palmas\n"
     ]
    },
    {
     "data": {
      "image/png": "[encoded data removed]",
      "text/plain": [
       "<Figure size 1400x800 with 1 Axes>"
      ]
     },
     "metadata": {},
     "output_type": "display_data"
    }
   ],
   "source": [
    "\n",
    "nombre_provincia = input(\"Ingresa el nombre de la provincia: \")\n",
    "\n",
    "# Filtrar los municipios de la provincia ingresada\n",
    "municipios_provincia = df[df['Provincia'].str.strip().eq(nombre_provincia.strip())]\n",
    "\n",
    "# Gráfico de barras para la población de todos los municipios de la provincia ingresada\n",
    "plt.figure(figsize=(14, 8))\n",
    "plt.bar(municipios_provincia['Municipio'], municipios_provincia['Poblacion'], color='darkblue')\n",
    "plt.title(f'Población de los Municipios de {nombre_provincia}')\n",
    "plt.xlabel('Municipio')\n",
    "plt.ylabel('Población')\n",
    "plt.xticks(rotation=90)\n",
    "plt.show()\n"
   ]
  },
  {
   "cell_type": "markdown",
   "id": "eae8cb54-986c-46f5-9f57-7702a681499e",
   "metadata": {},
   "source": [
    "7. Seleccione al azar cincuenta municipios diferentes de entre los diponibles en el archivo. Asegúrese de que no se repitan. ¿Luego calcule el promedio de la población y la desviación estándar de esto 50 municipios?."
   ]
  },
  {
   "cell_type": "code",
   "execution_count": 44,
   "id": "7ea88d71-1d48-4cd3-933c-4a49966a5d7c",
   "metadata": {
    "tags": []
   },
   "outputs": [
    {
     "data": {
      "text/plain": [
       "(38866.4, 48323.69518915843)"
      ]
     },
     "execution_count": 44,
     "metadata": {},
     "output_type": "execute_result"
    }
   ],
   "source": [
    "# seleccion de muestra\n",
    "sample_m = df.sample(n=50, replace=False)\n",
    "\n",
    "# calculo de promedio y desviacion stardard\n",
    "poblacion_mean = sample_m['Poblacion'].mean()\n",
    "poblacion_sd = sample_m['Poblacion'].std()\n",
    "\n",
    "poblacion_mean, poblacion_sd"
   ]
  },
  {
   "cell_type": "markdown",
   "id": "3187df3f-dab8-4e58-8bc3-2ef635bfa572",
   "metadata": {},
   "source": [
    "8. Determine los nombres de los Municipios más cercano y más lejano a Madrid. Para ello debe calcular la distancia en todos ellos y Madrid. No considere a Madrid en el análisis ya que la distancia sería cero."
   ]
  },
  {
   "cell_type": "code",
   "execution_count": 48,
   "id": "19f7fa7e-bac7-4fac-8303-80faa47950d2",
   "metadata": {
    "tags": []
   },
   "outputs": [
    {
     "data": {
      "text/plain": [
       "(('Pozuelo de Alarcón', 6.905847034799361),\n",
       " ('Los Llanos de Aridane', 1840.234817201702))"
      ]
     },
     "execution_count": 48,
     "metadata": {},
     "output_type": "execute_result"
    }
   ],
   "source": [
    "def haversine(lon1, lat1, lon2, lat2):\n",
    "    \"\"\"\n",
    "     la distancia en kilómetros entre dos puntos en la Tierra dadas sus latitudes y longitudes.\n",
    "    \"\"\"\n",
    "    # Convertir coordenadas de grados a radianes\n",
    "    lon1, lat1, lon2, lat2 = map(radians, [lon1, lat1, lon2, lat2])\n",
    "\n",
    "    # Fórmula Haversine\n",
    "    dlon = lon2 - lon1\n",
    "    dlat = lat2 - lat1\n",
    "    a = sin(dlat/2)**2 + cos(lat1) * cos(lat2) * sin(dlon/2)**2\n",
    "    c = 2 * asin(sqrt(a))\n",
    "    r = 6371  # Radio de la Tierra en kilómetros\n",
    "    return c * r\n",
    "\n",
    "# Coordenadas de Madrid\n",
    "madrid_lon = -3.7038\n",
    "madrid_lat = 40.4168\n",
    "\n",
    "# Excluir a Madrid del análisis si estuviera presente\n",
    "df_sin_madrid = df[df['Municipio'] != 'Madrid']\n",
    "\n",
    "# Calcular la distancia de cada municipio a Madrid\n",
    "df_sin_madrid['Distancia_a_Madrid'] = df_sin_madrid.apply(lambda x: haversine(madrid_lon, madrid_lat, x['X'], x['Y']), axis=1)\n",
    "\n",
    "# Encontrar los municipios más cercano y más lejano a Madrid\n",
    "municipio_mas_cercano = df_sin_madrid.loc[df_sin_madrid['Distancia_a_Madrid'].idxmin()]\n",
    "municipio_mas_lejano = df_sin_madrid.loc[df_sin_madrid['Distancia_a_Madrid'].idxmax()]\n",
    "\n",
    "municipio_mas_cercano_info = (municipio_mas_cercano['Municipio'], municipio_mas_cercano['Distancia_a_Madrid'])\n",
    "municipio_mas_lejano_info = (municipio_mas_lejano['Municipio'], municipio_mas_lejano['Distancia_a_Madrid'])\n",
    "\n",
    "municipio_mas_cercano_info, municipio_mas_lejano_info"
   ]
  },
  {
   "cell_type": "code",
   "execution_count": null,
   "id": "41654197-d7aa-4270-b9d5-f3591d6a48c3",
   "metadata": {},
   "outputs": [],
   "source": []
  }
 ],
 "metadata": {
  "kernelspec": {
   "display_name": "Python 3 (ipykernel)",
   "language": "python",
   "name": "python3"
  },
  "language_info": {
   "codemirror_mode": {
    "name": "ipython",
    "version": 3
   },
   "file_extension": ".py",
   "mimetype": "text/x-python",
   "name": "python",
   "nbconvert_exporter": "python",
   "pygments_lexer": "ipython3",
   "version": "3.11.5"
  }
 },
 "nbformat": 4,
 "nbformat_minor": 5
}

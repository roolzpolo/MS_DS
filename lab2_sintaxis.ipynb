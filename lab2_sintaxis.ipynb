{
 "cells": [
  {
   "cell_type": "markdown",
   "id": "48c23a1a-c09e-450e-8576-9faa448ad742",
   "metadata": {},
   "source": [
    "# Laboratorio # 2 - Sintaxis y Estructuras de Datos\n",
    "## Polo Figueroa González 24000569"
   ]
  },
  {
   "cell_type": "markdown",
   "id": "f43fabfe-1644-4b49-b460-5177db4e8173",
   "metadata": {
    "tags": []
   },
   "source": [
    "1. Programa que recibe un parametro en segundos para desplegar en pantalla, las horas, minutos y segundos que representan. Por ejemplo:"
   ]
  },
  {
   "cell_type": "code",
   "execution_count": 16,
   "id": "10871f9e-e006-419c-94d5-9875e9e8de0a",
   "metadata": {
    "tags": []
   },
   "outputs": [],
   "source": [
    "def conversion(seg):\n",
    "    try:\n",
    "        seg = int(seg)\n",
    "        horas = seg // 3600\n",
    "        minutos = (seg % 3600) // 60\n",
    "        segundos = seg % 60\n",
    "        return f\"Horas: {horas}, Minutos: {minutos}, Segundos: {segundos}\"\n",
    "    except ValueError:\n",
    "        return \"Introducir un integer.\""
   ]
  },
  {
   "cell_type": "code",
   "execution_count": 17,
   "id": "c4f6f3c8-fb79-4e3d-9eb5-b0cb808d8535",
   "metadata": {
    "tags": []
   },
   "outputs": [
    {
     "name": "stdout",
     "output_type": "stream",
     "text": [
      "Horas: 3, Minutos: 25, Segundos: 45\n"
     ]
    }
   ],
   "source": [
    "print(conversion(12345))"
   ]
  },
  {
   "cell_type": "code",
   "execution_count": 19,
   "id": "979fc7ef-0f2b-40b7-90f6-2451b2e71935",
   "metadata": {
    "tags": []
   },
   "outputs": [
    {
     "name": "stdout",
     "output_type": "stream",
     "text": [
      "Por favor, introduzca un integer.\n"
     ]
    }
   ],
   "source": [
    "print(conversion(\"hola\"))"
   ]
  },
  {
   "cell_type": "markdown",
   "id": "851a9ce4-894e-49b5-b09d-5877d70f7ea7",
   "metadata": {},
   "source": [
    "2. Función que dado un número entre 1 y 20. Y un caracter cualquiera despliegue cuatro patrones triangulares."
   ]
  },
  {
   "cell_type": "code",
   "execution_count": 36,
   "id": "0d717f86-9272-410b-b17e-57c9acf9629e",
   "metadata": {
    "tags": []
   },
   "outputs": [],
   "source": [
    "def print_patterns(n, signo):\n",
    "    if not (1 <= n <= 20) or len(signo) != 1:\n",
    "        return \"Error: ingrese número entre 1 y 20 y el símbolo debe ser un único carácter.\"\n",
    "    for i in range(1, n + 1):\n",
    "        print(signo * i)\n",
    "    print()\n",
    "\n",
    "    for i in range(1, n + 1):\n",
    "        print(\" \" * (n - i) + signo * i)\n",
    "    print()\n",
    "\n",
    "    for i in range(n, 0, -1):\n",
    "        print(signo * i)\n",
    "    print()\n",
    "\n",
    "    for i in range(n, 0, -1):\n",
    "        print(\" \" * (n - i) + signo * i)\n",
    "    print()"
   ]
  },
  {
   "cell_type": "code",
   "execution_count": 37,
   "id": "fe03abd8-58b1-4617-b3b9-c30e3642b54a",
   "metadata": {
    "tags": []
   },
   "outputs": [
    {
     "name": "stdout",
     "output_type": "stream",
     "text": [
      ".\n",
      "..\n",
      "...\n",
      "\n",
      "  .\n",
      " ..\n",
      "...\n",
      "\n",
      "...\n",
      "..\n",
      ".\n",
      "\n",
      "...\n",
      " ..\n",
      "  .\n",
      "\n"
     ]
    }
   ],
   "source": [
    "print_patterns(3,\".\")"
   ]
  },
  {
   "cell_type": "markdown",
   "id": "28fb3554-330b-4842-82f6-a64d5ed33a09",
   "metadata": {},
   "source": [
    "3. Programa que convierte la fecha de nacimiento despliegue la edad en años, meses y días."
   ]
  },
  {
   "cell_type": "code",
   "execution_count": 43,
   "id": "d485c5a5-4e17-4573-8162-27cc7080fce9",
   "metadata": {
    "tags": []
   },
   "outputs": [],
   "source": [
    "from datetime import datetime\n",
    "from dateutil.relativedelta import relativedelta\n",
    "\n",
    "def calculo_edad(dia, mes, año):\n",
    "    fecha = datetime(año, mes, dia)\n",
    "    hoy = datetime.now()\n",
    "    dif = relativedelta(hoy, fecha)\n",
    "\n",
    "    return dif.years, dif.months, dif.days\n"
   ]
  },
  {
   "cell_type": "code",
   "execution_count": 45,
   "id": "09d85a2a-ed4d-4b5f-a36c-34d922749461",
   "metadata": {
    "tags": []
   },
   "outputs": [
    {
     "data": {
      "text/plain": [
       "(39, 9, 19)"
      ]
     },
     "execution_count": 45,
     "metadata": {},
     "output_type": "execute_result"
    }
   ],
   "source": [
    "dia_nacimiento = 6\n",
    "mes_nacimiento = 5\n",
    "año_nacimiento = 1984\n",
    "\n",
    "calculo_edad(dia_nacimiento, mes_nacimiento, año_nacimiento)\n"
   ]
  },
  {
   "cell_type": "markdown",
   "id": "52cc7537-ab3c-4ac6-8626-256d799842d0",
   "metadata": {},
   "source": [
    "4. Función que convierte los elementos de una tupla a un string."
   ]
  },
  {
   "cell_type": "code",
   "execution_count": 48,
   "id": "8264efe3-1a1c-4a07-9da4-734f61997940",
   "metadata": {
    "tags": []
   },
   "outputs": [],
   "source": [
    "def tupla_string(tupla):\n",
    "    return ''.join(str(elemento) for elemento in tupla)"
   ]
  },
  {
   "cell_type": "code",
   "execution_count": 52,
   "id": "d49b7a6d-72a9-4c20-b48c-c7b8238df392",
   "metadata": {
    "tags": []
   },
   "outputs": [
    {
     "data": {
      "text/plain": [
       "'987123434570'"
      ]
     },
     "execution_count": 52,
     "metadata": {},
     "output_type": "execute_result"
    }
   ],
   "source": [
    "lista = (987, 1234, 34, 5, 70)\n",
    "\n",
    "tupla_string(lista)"
   ]
  },
  {
   "cell_type": "markdown",
   "id": "b4016113-ec00-4d37-a570-eb8553a9c4e6",
   "metadata": {},
   "source": [
    "5. Programa que elimina las tuplas vacías."
   ]
  },
  {
   "cell_type": "code",
   "execution_count": 65,
   "id": "9a261386-0301-426d-a85f-ea81c427a3ae",
   "metadata": {
    "tags": []
   },
   "outputs": [],
   "source": [
    "def borrador(listado):\n",
    "    return [tupla for tupla in listado if tupla]"
   ]
  },
  {
   "cell_type": "code",
   "execution_count": 66,
   "id": "624e023a-86f6-4713-a4f4-83efe7054a5f",
   "metadata": {
    "tags": []
   },
   "outputs": [
    {
     "data": {
      "text/plain": [
       "[('3',), ('r', 's', 't'), ('p', 'o', 'l', 'o'), ('d',)]"
      ]
     },
     "execution_count": 66,
     "metadata": {},
     "output_type": "execute_result"
    }
   ],
   "source": [
    "listado = [(), (), ('3',), (), ('r', 's', 't'), (), ('p', 'o', 'l', 'o'), (), (), (), ('d',)]\n",
    "borrador(listado)"
   ]
  },
  {
   "cell_type": "markdown",
   "id": "3f16e07b-4aea-4d88-8de1-e6cb9079ef9f",
   "metadata": {},
   "source": [
    "5. función que produce una tupla con el promedio de cada tupla individual."
   ]
  },
  {
   "cell_type": "code",
   "execution_count": 70,
   "id": "1dc2a11d-3647-4f2f-b6ad-8fbb00152142",
   "metadata": {
    "tags": []
   },
   "outputs": [],
   "source": [
    "def promedio_tp(tp_avg):\n",
    "    return tuple(sum(t) / len(t) for t in tp_avg)"
   ]
  },
  {
   "cell_type": "code",
   "execution_count": 73,
   "id": "7c320624-21d4-4c31-80ad-307d200517eb",
   "metadata": {
    "tags": []
   },
   "outputs": [
    {
     "data": {
      "text/plain": [
       "(3290.75, 52.75)"
      ]
     },
     "execution_count": 73,
     "metadata": {},
     "output_type": "execute_result"
    }
   ],
   "source": [
    "entry = ((1212, 1014, 1765, 1226, 7654, 4567, 6543, 2345), (30, 45, 56, 45, 65, 76, 34, 65, 87, 65, 43, 22))\n",
    "promedio_tp(entry)"
   ]
  },
  {
   "cell_type": "markdown",
   "id": "41841306-cfcd-4fae-8e26-6a7f46623358",
   "metadata": {},
   "source": [
    "7. Programa que gestiona las facturas pendientes de cobro de una empresa. "
   ]
  },
  {
   "cell_type": "code",
   "execution_count": 81,
   "id": "970ff81b-8ef7-4075-9bc6-1e729de80fc5",
   "metadata": {
    "tags": []
   },
   "outputs": [],
   "source": [
    "# funcion para agregar factura\n",
    "def add(facturas, costo):\n",
    "    num = input(\"Introducir el número de la factura: \")\n",
    "    facturas[num] = costo\n",
    "    \n",
    "# funcion para pagar facturas\n",
    "def pay(facturas, total_cobrado):\n",
    "    num = input(\"Introducir el número de la factura a pagar: \")\n",
    "    if num in facturas:\n",
    "        total_cobrado += facturas.pop(num)\n",
    "        print(f\"Factura {num} pagada.\")\n",
    "    else:\n",
    "        print(\"La factura no existe.\")\n",
    "    return total_cobrado\n",
    "\n",
    "# funcion para imprimr el status de las facutas\n",
    "def print_status(facturas, total_cobrado):\n",
    "    print(f\"Cantidad cobrada: {total_cobrado}\")\n",
    "    print(f\"Cantidad pendiente de cobro: {sum(facturas.values())}\")\n",
    "\n",
    "# ejecutor del programa    \n",
    "def gestor_facturas():\n",
    "    facturas = {}\n",
    "    total_cobrado = 0\n",
    "\n",
    "    while True:\n",
    "        accion = input(\"nueva factura (N), pagar factura (P) o finalizar gestor (F)? \")\n",
    "\n",
    "        if accion == 'N':\n",
    "            costo = float(input(\"Introducir el coste de la factura: \"))\n",
    "            add(facturas, costo)\n",
    "            print(\"Factura añadida. numero acumulado de facturas:\", facturas)\n",
    "        \n",
    "        elif accion == 'P':\n",
    "            total_cobrado = pay(facturas, total_cobrado)\n",
    "        \n",
    "        elif accion == 'T':\n",
    "            print(\"Finalizando el programa.\")\n",
    "            break\n",
    "        \n",
    "        print_status(facturas, total_cobrado)"
   ]
  },
  {
   "cell_type": "code",
   "execution_count": null,
   "id": "45f33a9d-41c9-4404-9d0d-41d5fa2905cf",
   "metadata": {
    "tags": []
   },
   "outputs": [],
   "source": [
    "gestor_facturas()"
   ]
  },
  {
   "cell_type": "markdown",
   "id": "77c1b197-311a-4fcb-80b6-3ee6e79a408b",
   "metadata": {},
   "source": [
    "8. funcion para obtener las cartas de una baraja de Poker."
   ]
  },
  {
   "cell_type": "code",
   "execution_count": null,
   "id": "90432a6f-44cc-469f-b4b9-c4b508a3b65f",
   "metadata": {},
   "outputs": [],
   "source": [
    "import random\n",
    "\n",
    "def nueva_baraja():\n",
    "    tipos = ['T', 'C', 'P', 'E']\n",
    "    numeros = list(range(1, 14))\n",
    "    return set(f\"{tipo}{str(numero).zfill(2)}\" for tipo in tipos for numero in numeros)\n",
    "\n",
    "def crear_subconjuntos(baraja):\n",
    "    n1, n2 = random.sample(range(1, len(baraja) + 1), 2)\n",
    "    subconjunto1 = set(random.sample(baraja, n1))\n",
    "    subconjunto2 = set(random.sample(baraja, n2))\n",
    "    return subconjunto1, subconjunto2\n",
    "\n",
    "def calcular_probabilidades(subconjunto1, subconjunto2, baraja):\n",
    "    interseccion = subconjunto1 & subconjunto2\n",
    "    prob_interseccion = len(interseccion) / len(baraja)\n",
    "    prob_subconjunto1 = len(subconjunto1) / len(baraja)\n",
    "    prob_subconjunto2 = len(subconjunto2) / len(baraja)\n",
    "    \n",
    "    # Eventos independientes si P(A ∩ B) = P(A) * P(B)\n",
    "    son_independientes = prob_interseccion == (prob_subconjunto1 * prob_subconjunto2)\n",
    "    \n",
    "    # Unión de conjuntos P(A ∪ B) = P(A) + P(B) - P(A ∩ B)\n",
    "    union = subconjunto1 | subconjunto2\n",
    "    prob_union = len(union) / len(baraja)\n",
    "    cumple_regla_adicion = prob_union == (prob_subconjunto1 + prob_subconjunto2 - prob_interseccion)\n",
    "    \n",
    "    return prob_interseccion, son_independientes, prob_union, cumple_regla_adicion\n"
   ]
  },
  {
   "cell_type": "code",
   "execution_count": null,
   "id": "2b2d2a10-f0ff-4833-bbf3-549da11a9c0a",
   "metadata": {},
   "outputs": [],
   "source": [
    "# Crear la baraja y los subconjuntos\n",
    "baraja = nueva_baraja()\n",
    "subconjunto1, subconjunto2 = crear_subconjuntos(baraja)\n",
    "\n",
    "# Calcular y mostrar las probabilidades\n",
    "prob_interseccion, son_independientes, prob_union, cumple_regla_adicion = calcular_probabilidades(subconjunto1, subconjunto2, baraja)\n",
    "(prob_interseccion, son_independientes, prob_union, cumple_regla_adicion)"
   ]
  },
  {
   "cell_type": "code",
   "execution_count": null,
   "id": "f7070334-5fe6-461f-8f1d-a1f0253521c9",
   "metadata": {},
   "outputs": [],
   "source": []
  }
 ],
 "metadata": {
  "kernelspec": {
   "display_name": "Python 3 (ipykernel)",
   "language": "python",
   "name": "python3"
  },
  "language_info": {
   "codemirror_mode": {
    "name": "ipython",
    "version": 3
   },
   "file_extension": ".py",
   "mimetype": "text/x-python",
   "name": "python",
   "nbconvert_exporter": "python",
   "pygments_lexer": "ipython3",
   "version": "3.11.5"
  }
 },
 "nbformat": 4,
 "nbformat_minor": 5
}
